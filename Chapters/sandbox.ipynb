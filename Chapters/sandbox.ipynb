{
 "cells": [
  {
   "cell_type": "code",
   "execution_count": 1,
   "metadata": {},
   "outputs": [],
   "source": [
    "import random\n",
    "import pandas as pd\n",
    "\n",
    "# Create a list of product names\n",
    "products = ['Apple', 'Banana', 'Orange']\n",
    "\n",
    "# Assign a price to each product\n",
    "prices = {'Apple': 1.99, 'Banana': 0.79, 'Orange': 2.49}\n",
    "\n",
    "# Create a list of transaction data\n",
    "data = []\n",
    "for i in range(10):\n",
    "    transaction = {\n",
    "        'product': random.choice(products),\n",
    "        'price': prices[random.choice(products)],\n",
    "        'quantity': random.randint(1, 10),\n",
    "        'date': '2022-01-0' + str(i+1),\n",
    "        'total': 0\n",
    "    }\n",
    "    transaction['total'] = round(transaction['price'] * transaction['quantity'], 2)\n",
    "    data.append(transaction)\n",
    "\n",
    "# Create a DataFrame from the transaction data\n",
    "df = pd.DataFrame(data)\n",
    "df.drop(columns=['total'], inplace=True)"
   ]
  },
  {
   "cell_type": "code",
   "execution_count": 2,
   "metadata": {},
   "outputs": [],
   "source": [
    "df.to_excel(\"sales.xlsx\", index=False)"
   ]
  },
  {
   "cell_type": "code",
   "execution_count": 3,
   "metadata": {},
   "outputs": [
    {
     "data": {
      "text/html": [
       "<div>\n",
       "<style scoped>\n",
       "    .dataframe tbody tr th:only-of-type {\n",
       "        vertical-align: middle;\n",
       "    }\n",
       "\n",
       "    .dataframe tbody tr th {\n",
       "        vertical-align: top;\n",
       "    }\n",
       "\n",
       "    .dataframe thead th {\n",
       "        text-align: right;\n",
       "    }\n",
       "</style>\n",
       "<table border=\"1\" class=\"dataframe\">\n",
       "  <thead>\n",
       "    <tr style=\"text-align: right;\">\n",
       "      <th></th>\n",
       "      <th>date</th>\n",
       "      <th>customer_age</th>\n",
       "      <th>product</th>\n",
       "      <th>price</th>\n",
       "      <th>quantity</th>\n",
       "    </tr>\n",
       "  </thead>\n",
       "  <tbody>\n",
       "    <tr>\n",
       "      <th>0</th>\n",
       "      <td>2022-10-02</td>\n",
       "      <td>28</td>\n",
       "      <td>Product H</td>\n",
       "      <td>80</td>\n",
       "      <td>1.558574</td>\n",
       "    </tr>\n",
       "    <tr>\n",
       "      <th>1</th>\n",
       "      <td>2022-04-23</td>\n",
       "      <td>47</td>\n",
       "      <td>Product A</td>\n",
       "      <td>10</td>\n",
       "      <td>5.244605</td>\n",
       "    </tr>\n",
       "    <tr>\n",
       "      <th>2</th>\n",
       "      <td>2022-11-16</td>\n",
       "      <td>29</td>\n",
       "      <td>Product D</td>\n",
       "      <td>40</td>\n",
       "      <td>0.570323</td>\n",
       "    </tr>\n",
       "    <tr>\n",
       "      <th>3</th>\n",
       "      <td>2022-08-17</td>\n",
       "      <td>75</td>\n",
       "      <td>Product G</td>\n",
       "      <td>70</td>\n",
       "      <td>1.689713</td>\n",
       "    </tr>\n",
       "    <tr>\n",
       "      <th>4</th>\n",
       "      <td>2022-03-31</td>\n",
       "      <td>54</td>\n",
       "      <td>Product B</td>\n",
       "      <td>20</td>\n",
       "      <td>2.513816</td>\n",
       "    </tr>\n",
       "  </tbody>\n",
       "</table>\n",
       "</div>"
      ],
      "text/plain": [
       "         date  customer_age    product  price  quantity\n",
       "0  2022-10-02            28  Product H     80  1.558574\n",
       "1  2022-04-23            47  Product A     10  5.244605\n",
       "2  2022-11-16            29  Product D     40  0.570323\n",
       "3  2022-08-17            75  Product G     70  1.689713\n",
       "4  2022-03-31            54  Product B     20  2.513816"
      ]
     },
     "execution_count": 3,
     "metadata": {},
     "output_type": "execute_result"
    }
   ],
   "source": [
    "import pandas as pd\n",
    "import numpy as np\n",
    "from faker import Faker\n",
    "\n",
    "# Initialize the Faker object\n",
    "fake = Faker()\n",
    "\n",
    "# Define the number of transactions to simulate\n",
    "num_transactions = 10000\n",
    "\n",
    "# Create empty lists to store the data\n",
    "dates = []\n",
    "customer_age = []\n",
    "products = []\n",
    "prices = []\n",
    "quantities = []\n",
    "\n",
    "# Define the product list\n",
    "product_list = [\"Product A\", \"Product B\", \"Product C\", \"Product D\", \"Product E\", \"Product F\", \"Product G\", \"Product H\", \"Product I\", \"Product J\"]\n",
    "\n",
    "# Define the price list\n",
    "price_list = [10,20,30,40,50,60,70,80,90,100]\n",
    "\n",
    "# Define the ratio of older to younger customers\n",
    "old_customer_ratio = 0.2\n",
    "young_customer_ratio = 0.8\n",
    "\n",
    "# Define the average purchase value for older and younger customers\n",
    "old_customer_avg_purchase = 50\n",
    "young_customer_avg_purchase = 20\n",
    "\n",
    "# Simulate the data\n",
    "for _ in range(num_transactions):\n",
    "    # Assign a date within the last year\n",
    "    dates.append(fake.date_between(start_date='-1y', end_date='today'))\n",
    "    # Assign a random age to the customer\n",
    "    customer_age.append(fake.random_int(min=18, max=80))\n",
    "    # Assign a random product to the customer\n",
    "    products.append(np.random.choice(product_list))\n",
    "    # Assign the corresponding price to the product\n",
    "    prices.append(price_list[product_list.index(products[-1])])\n",
    "    # Assign a random quantity to the customer\n",
    "    if customer_age[_] < 40:\n",
    "        # Assign a quantity based on the young customer average purchase value\n",
    "        quantities.append(np.random.normal(young_customer_avg_purchase / prices[-1],1))\n",
    "    else:\n",
    "        # Assign a quantity based on the old customer average purchase value\n",
    "        quantities.append(np.random.normal(old_customer_avg_purchase / prices[-1],1))\n",
    "\n",
    "transactions_df = pd.DataFrame({'date': dates, 'customer_age': customer_age, 'product': products, 'price': prices, 'quantity': quantities})\n",
    "transactions_df[\"quantity\"] = transactions_df[\"quantity\"].apply(lambda x: x if x>0 else 0)\n",
    "transactions_df.head()"
   ]
  },
  {
   "attachments": {},
   "cell_type": "markdown",
   "metadata": {},
   "source": [
    "## Simulation - Einführende Fallstudie\n",
    "\n",
    "Datensatz:\n",
    "\n",
    "- alte und junge Kunden \n",
    "- über die Zeit hat sich Anteil an jungen Kunden erhöht\n",
    "- Umsatz rückläufig, weil junge Kunden weniger ausgeben, d.h. andere Produkte und weniger Umsatz pro Kunde"
   ]
  },
  {
   "cell_type": "code",
   "execution_count": 4,
   "metadata": {},
   "outputs": [],
   "source": [
    "import pandas as pd # Data manipulation\n",
    "import numpy as np\n",
    "import scipy.stats as stats # Statistical analysis; mainly distributions\n",
    "from faker import Faker # Generate fake data\n",
    "import matplotlib.pyplot as plt\n",
    "import seaborn as sns\n",
    "from typing import List"
   ]
  },
  {
   "cell_type": "code",
   "execution_count": 5,
   "metadata": {},
   "outputs": [],
   "source": [
    "def perc_young_trend(start_perc: float, end_perc: float, n: int) -> np.ndarray:\n",
    "    \"\"\"\n",
    "    Simulate percentage of young customers trend over time\n",
    "    \n",
    "    Args:\n",
    "        start_perc (float): percentage of young customers at the start of the simulation\n",
    "        end_perc (float): percentage of young customers at the end of the simulation\n",
    "        n (int): number of time steps to simulate\n",
    "\n",
    "    Returns:\n",
    "        np.ndarray: percentage of young customers trend over time\n",
    "    \"\"\"\n",
    "    # create a time series trend\n",
    "    trend = np.linspace(start_perc, end_perc, n)\n",
    "    # add some noise to the trend\n",
    "    noise = np.random.normal(0, 0.06, n)\n",
    "\n",
    "    perc = trend + noise\n",
    "\n",
    "    # Ensure that perc is between 0 and 1\n",
    "    perc = np.clip(perc, 0.01, 0.99)\n",
    "\n",
    "    return perc"
   ]
  },
  {
   "cell_type": "code",
   "execution_count": 6,
   "metadata": {},
   "outputs": [
    {
     "data": {
      "text/html": [
       "<div>\n",
       "<style scoped>\n",
       "    .dataframe tbody tr th:only-of-type {\n",
       "        vertical-align: middle;\n",
       "    }\n",
       "\n",
       "    .dataframe tbody tr th {\n",
       "        vertical-align: top;\n",
       "    }\n",
       "\n",
       "    .dataframe thead th {\n",
       "        text-align: right;\n",
       "    }\n",
       "</style>\n",
       "<table border=\"1\" class=\"dataframe\">\n",
       "  <thead>\n",
       "    <tr style=\"text-align: right;\">\n",
       "      <th></th>\n",
       "      <th>Kundenname</th>\n",
       "      <th>Alter</th>\n",
       "      <th>Zahlungsmethode</th>\n",
       "      <th>ø Preis</th>\n",
       "      <th>Menge</th>\n",
       "      <th>Datum</th>\n",
       "      <th>Uhrzeit</th>\n",
       "    </tr>\n",
       "  </thead>\n",
       "  <tbody>\n",
       "    <tr>\n",
       "      <th>0</th>\n",
       "      <td>Gislinde Börner</td>\n",
       "      <td>29</td>\n",
       "      <td>EC-Karte</td>\n",
       "      <td>14.99</td>\n",
       "      <td>4</td>\n",
       "      <td>01.01.2022</td>\n",
       "      <td>10:24:44</td>\n",
       "    </tr>\n",
       "    <tr>\n",
       "      <th>1</th>\n",
       "      <td>Pierre Ullmann</td>\n",
       "      <td>28</td>\n",
       "      <td>Bar</td>\n",
       "      <td>17.99</td>\n",
       "      <td>4</td>\n",
       "      <td>01.01.2022</td>\n",
       "      <td>10:55:09</td>\n",
       "    </tr>\n",
       "    <tr>\n",
       "      <th>2</th>\n",
       "      <td>Rainer Birnbaum</td>\n",
       "      <td>57</td>\n",
       "      <td>Bar</td>\n",
       "      <td>43.99</td>\n",
       "      <td>4</td>\n",
       "      <td>01.01.2022</td>\n",
       "      <td>11:25:31</td>\n",
       "    </tr>\n",
       "    <tr>\n",
       "      <th>3</th>\n",
       "      <td>Ekaterina Binner</td>\n",
       "      <td>47</td>\n",
       "      <td>Kreditkarte</td>\n",
       "      <td>36.99</td>\n",
       "      <td>3</td>\n",
       "      <td>01.01.2022</td>\n",
       "      <td>11:30:28</td>\n",
       "    </tr>\n",
       "    <tr>\n",
       "      <th>4</th>\n",
       "      <td>Prof. Mandy Riehl</td>\n",
       "      <td>59</td>\n",
       "      <td>Bar</td>\n",
       "      <td>35.99</td>\n",
       "      <td>4</td>\n",
       "      <td>01.01.2022</td>\n",
       "      <td>11:46:50</td>\n",
       "    </tr>\n",
       "  </tbody>\n",
       "</table>\n",
       "</div>"
      ],
      "text/plain": [
       "          Kundenname  Alter Zahlungsmethode  ø Preis  Menge       Datum  \\\n",
       "0    Gislinde Börner     29        EC-Karte    14.99      4  01.01.2022   \n",
       "1     Pierre Ullmann     28             Bar    17.99      4  01.01.2022   \n",
       "2    Rainer Birnbaum     57             Bar    43.99      4  01.01.2022   \n",
       "3   Ekaterina Binner     47     Kreditkarte    36.99      3  01.01.2022   \n",
       "4  Prof. Mandy Riehl     59             Bar    35.99      4  01.01.2022   \n",
       "\n",
       "    Uhrzeit  \n",
       "0  10:24:44  \n",
       "1  10:55:09  \n",
       "2  11:25:31  \n",
       "3  11:30:28  \n",
       "4  11:46:50  "
      ]
     },
     "execution_count": 6,
     "metadata": {},
     "output_type": "execute_result"
    }
   ],
   "source": [
    "np.random.seed(10)\n",
    "\n",
    "n_transactions = 10_000 # Number of transactions to simulate\n",
    "start_perc_young = 0.2 # Percentage of young customers at the start of the simulation\n",
    "end_perc_young = 0.7 # Percentage of young customers at the end of the simulation\n",
    "\n",
    "# Define parameters for the young and old customers (average price, average quantity, etc.)\n",
    "paras_customer = {\"avg_price\": [19, 39], \"avg_quantity\": [2, 4], \"age\": [22, 50]}\n",
    "dist = stats.poisson # Distribution to use for the price and quantity and the age\n",
    "\n",
    "# Fake data generator to generate\n",
    "# - fake customer names\n",
    "# - fake customer ages\n",
    "fake = Faker(locale=\"de-DE\")\n",
    "perc_young = perc_young_trend(start_perc_young, end_perc_young, n_transactions)\n",
    "\n",
    "data = {\"customer_age\": [], \"customer_name\": [], \"customer_payment_method\": [], \"price\": [], \"quantity\": [],  \"wochentag\": []}\n",
    "for i in range(0, n_transactions):\n",
    "    customer_type = np.random.choice([0, 1], p=[perc_young[i], 1-perc_young[i]])\n",
    "    customer_age = dist.rvs(paras_customer[\"age\"][customer_type]) + 7\n",
    "    customer_name = fake.name()\n",
    "    customer_payment_method = np.random.choice([\"Kreditkarte\", \"Bar\", \"EC-Karte\"])\n",
    "    wochentag = np.random.choice([\"Montag\", \"Dienstag\", \"Mittwoch\", \"Donnerstag\", \"Freitag\", \"Samstag\"], p=[0.15, 0.15, 0.15, 0.15, 0.15, 0.25])\n",
    "    \n",
    "    # Minimum price is 1\n",
    "    price = dist.rvs(paras_customer[\"avg_price\"][customer_type]) + 1.99\n",
    "    \n",
    "    # Minimum quantity is 1\n",
    "    quantity = dist.rvs(paras_customer[\"avg_quantity\"][customer_type]) + 1\n",
    "    total = price * quantity\n",
    "\n",
    "    data[\"customer_age\"].append(customer_age)\n",
    "    data[\"customer_name\"].append(fake.name())\n",
    "    data[\"customer_payment_method\"].append(customer_payment_method)\n",
    "    data[\"price\"].append(price)\n",
    "    data[\"quantity\"].append(quantity)\n",
    "    data[\"wochentag\"].append(wochentag)\n",
    "\n",
    "# Create a DataFrame from the transaction data and translate column names to German\n",
    "df = pd.DataFrame(data)\n",
    "df.columns = [\"Alter\", \"Kundenname\", \"Zahlungsmethode\", \"ø Preis\", \"Menge\", \"Wochentag\"]\n",
    "df = df[[\"Kundenname\", \"Alter\", \"Zahlungsmethode\", \"ø Preis\", \"Menge\", \"Wochentag\"]]\n",
    "\n",
    "# Add column \"Datum\" with sorted Dates from 1.1.2022 to 31.12.2022 all days must be from 10am to 8pm\n",
    "df[\"Datum\"] = pd.date_range(start=\"2022-01-01\", end=\"2022-12-31\", periods=n_transactions,  tz=\"Europe/Berlin\")\n",
    "df[\"Datum\"] = df[\"Datum\"].apply(lambda x: x.replace(hour=np.random.randint(10, 20), minute=np.random.randint(0, 60)))\n",
    "df = df.sort_values(by=\"Datum\").reset_index(drop=True)\n",
    "\n",
    "# Split Date into two columns \"Datum\" and \"Uhrzeit\" (hh:mm:ss)\n",
    "df[\"Uhrzeit\"] = df[\"Datum\"].apply(lambda x: x.strftime(\"%H:%M:%S\")).astype(\"object\")\n",
    "df[\"Datum\"] = df[\"Datum\"].apply(lambda x: x.strftime(\"%d.%m.%Y\"))#.astype(\"object\")\n",
    "\n",
    "df = df.drop(columns=[\"Wochentag\"])\n",
    "# Save to csv\n",
    "df.to_csv(\"../_data/transactions_fashion_avenue.csv\", index=False)\n",
    "\n",
    "df.head()"
   ]
  },
  {
   "cell_type": "code",
   "execution_count": 8,
   "metadata": {},
   "outputs": [
    {
     "name": "stderr",
     "output_type": "stream",
     "text": [
      "<ipython-input-8-17f3cb617585>:11: FutureWarning: Series.dt.weekofyear and Series.dt.week have been deprecated.  Please use Series.dt.isocalendar().week instead.\n",
      "  .assign(Woche=lambda x: x[\"Datum\"].dt.week)\n"
     ]
    },
    {
     "data": {
      "text/html": [
       "<div>\n",
       "<style scoped>\n",
       "    .dataframe tbody tr th:only-of-type {\n",
       "        vertical-align: middle;\n",
       "    }\n",
       "\n",
       "    .dataframe tbody tr th {\n",
       "        vertical-align: top;\n",
       "    }\n",
       "\n",
       "    .dataframe thead th {\n",
       "        text-align: right;\n",
       "    }\n",
       "</style>\n",
       "<table border=\"1\" class=\"dataframe\">\n",
       "  <thead>\n",
       "    <tr style=\"text-align: right;\">\n",
       "      <th></th>\n",
       "      <th>Kundenname</th>\n",
       "      <th>Alter</th>\n",
       "      <th>Zahlungsmethode</th>\n",
       "      <th>ø Preis</th>\n",
       "      <th>Menge</th>\n",
       "      <th>Datum</th>\n",
       "      <th>Uhrzeit</th>\n",
       "      <th>Umsatz</th>\n",
       "      <th>Preis</th>\n",
       "      <th>Wochentag</th>\n",
       "      <th>Monat</th>\n",
       "      <th>Woche</th>\n",
       "    </tr>\n",
       "  </thead>\n",
       "  <tbody>\n",
       "    <tr>\n",
       "      <th>0</th>\n",
       "      <td>Gislinde Börner</td>\n",
       "      <td>29</td>\n",
       "      <td>EC-Karte</td>\n",
       "      <td>14.99</td>\n",
       "      <td>4</td>\n",
       "      <td>2022-01-01</td>\n",
       "      <td>10:24:44</td>\n",
       "      <td>59.96</td>\n",
       "      <td>14.99</td>\n",
       "      <td>Saturday</td>\n",
       "      <td>1</td>\n",
       "      <td>52</td>\n",
       "    </tr>\n",
       "    <tr>\n",
       "      <th>1</th>\n",
       "      <td>Pierre Ullmann</td>\n",
       "      <td>28</td>\n",
       "      <td>Bar</td>\n",
       "      <td>17.99</td>\n",
       "      <td>4</td>\n",
       "      <td>2022-01-01</td>\n",
       "      <td>10:55:09</td>\n",
       "      <td>71.96</td>\n",
       "      <td>17.99</td>\n",
       "      <td>Saturday</td>\n",
       "      <td>1</td>\n",
       "      <td>52</td>\n",
       "    </tr>\n",
       "    <tr>\n",
       "      <th>2</th>\n",
       "      <td>Rainer Birnbaum</td>\n",
       "      <td>57</td>\n",
       "      <td>Bar</td>\n",
       "      <td>43.99</td>\n",
       "      <td>4</td>\n",
       "      <td>2022-01-01</td>\n",
       "      <td>11:25:31</td>\n",
       "      <td>175.96</td>\n",
       "      <td>43.99</td>\n",
       "      <td>Saturday</td>\n",
       "      <td>1</td>\n",
       "      <td>52</td>\n",
       "    </tr>\n",
       "    <tr>\n",
       "      <th>3</th>\n",
       "      <td>Ekaterina Binner</td>\n",
       "      <td>47</td>\n",
       "      <td>Kreditkarte</td>\n",
       "      <td>36.99</td>\n",
       "      <td>3</td>\n",
       "      <td>2022-01-01</td>\n",
       "      <td>11:30:28</td>\n",
       "      <td>110.97</td>\n",
       "      <td>36.99</td>\n",
       "      <td>Saturday</td>\n",
       "      <td>1</td>\n",
       "      <td>52</td>\n",
       "    </tr>\n",
       "    <tr>\n",
       "      <th>4</th>\n",
       "      <td>Prof. Mandy Riehl</td>\n",
       "      <td>59</td>\n",
       "      <td>Bar</td>\n",
       "      <td>35.99</td>\n",
       "      <td>4</td>\n",
       "      <td>2022-01-01</td>\n",
       "      <td>11:46:50</td>\n",
       "      <td>143.96</td>\n",
       "      <td>35.99</td>\n",
       "      <td>Saturday</td>\n",
       "      <td>1</td>\n",
       "      <td>52</td>\n",
       "    </tr>\n",
       "  </tbody>\n",
       "</table>\n",
       "</div>"
      ],
      "text/plain": [
       "          Kundenname  Alter Zahlungsmethode  ø Preis  Menge      Datum  \\\n",
       "0    Gislinde Börner     29        EC-Karte    14.99      4 2022-01-01   \n",
       "1     Pierre Ullmann     28             Bar    17.99      4 2022-01-01   \n",
       "2    Rainer Birnbaum     57             Bar    43.99      4 2022-01-01   \n",
       "3   Ekaterina Binner     47     Kreditkarte    36.99      3 2022-01-01   \n",
       "4  Prof. Mandy Riehl     59             Bar    35.99      4 2022-01-01   \n",
       "\n",
       "    Uhrzeit  Umsatz  Preis Wochentag  Monat  Woche  \n",
       "0  10:24:44   59.96  14.99  Saturday      1     52  \n",
       "1  10:55:09   71.96  17.99  Saturday      1     52  \n",
       "2  11:25:31  175.96  43.99  Saturday      1     52  \n",
       "3  11:30:28  110.97  36.99  Saturday      1     52  \n",
       "4  11:46:50  143.96  35.99  Saturday      1     52  "
      ]
     },
     "execution_count": 8,
     "metadata": {},
     "output_type": "execute_result"
    }
   ],
   "source": [
    "import pandas as pd\n",
    "import seaborn as sns\n",
    "\n",
    "# read in the data\n",
    "df = pd.read_csv(\"../_data/transactions_fashion_avenue.csv\")\n",
    "df = (df.astype({\"Datum\": \"datetime64[ns]\"})\n",
    "        .assign(Umsatz = lambda x: x[\"ø Preis\"] * x[\"Menge\"])\n",
    "        .assign(Preis = lambda x: x[\"ø Preis\"])\n",
    "        .assign(Wochentag = lambda x: x[\"Datum\"].dt.day_name())\n",
    "        .assign(Monat=lambda x: x[\"Datum\"].dt.month)\n",
    "        .assign(Woche=lambda x: x[\"Datum\"].dt.week)\n",
    ")\n",
    "df.head()"
   ]
  },
  {
   "cell_type": "code",
   "execution_count": 11,
   "metadata": {},
   "outputs": [
    {
     "data": {
      "text/html": [
       "<div>\n",
       "<style scoped>\n",
       "    .dataframe tbody tr th:only-of-type {\n",
       "        vertical-align: middle;\n",
       "    }\n",
       "\n",
       "    .dataframe tbody tr th {\n",
       "        vertical-align: top;\n",
       "    }\n",
       "\n",
       "    .dataframe thead th {\n",
       "        text-align: right;\n",
       "    }\n",
       "</style>\n",
       "<table border=\"1\" class=\"dataframe\">\n",
       "  <thead>\n",
       "    <tr style=\"text-align: right;\">\n",
       "      <th></th>\n",
       "      <th>Umsatz</th>\n",
       "    </tr>\n",
       "    <tr>\n",
       "      <th>Zahlungsmethode</th>\n",
       "      <th></th>\n",
       "    </tr>\n",
       "  </thead>\n",
       "  <tbody>\n",
       "    <tr>\n",
       "      <th>Bar</th>\n",
       "      <td>141.536187</td>\n",
       "    </tr>\n",
       "    <tr>\n",
       "      <th>EC-Karte</th>\n",
       "      <td>139.903873</td>\n",
       "    </tr>\n",
       "    <tr>\n",
       "      <th>Kreditkarte</th>\n",
       "      <td>138.914361</td>\n",
       "    </tr>\n",
       "  </tbody>\n",
       "</table>\n",
       "</div>"
      ],
      "text/plain": [
       "                     Umsatz\n",
       "Zahlungsmethode            \n",
       "Bar              141.536187\n",
       "EC-Karte         139.903873\n",
       "Kreditkarte      138.914361"
      ]
     },
     "execution_count": 11,
     "metadata": {},
     "output_type": "execute_result"
    }
   ],
   "source": [
    "df.groupby(\"Zahlungsmethode\").agg({\"Umsatz\": \"mean\"})"
   ]
  },
  {
   "cell_type": "code",
   "execution_count": 24,
   "metadata": {},
   "outputs": [
    {
     "data": {
      "text/plain": [
       "<seaborn.axisgrid.FacetGrid at 0x7f95d1996bb0>"
      ]
     },
     "execution_count": 24,
     "metadata": {},
     "output_type": "execute_result"
    },
    {
     "data": {
      "image/png": "[encoded data removed]",
      "text/plain": [
       "<Figure size 1080x360 with 3 Axes>"
      ]
     },
     "metadata": {
      "needs_background": "light"
     },
     "output_type": "display_data"
    }
   ],
   "source": [
    "sns.displot(df, x=\"Umsatz\", kind=\"hist\", fill=True)"
   ]
  },
  {
   "cell_type": "code",
   "execution_count": 15,
   "metadata": {},
   "outputs": [
    {
     "data": {
      "text/plain": [
       "<AxesSubplot:xlabel='Zahlungsmethode', ylabel='Umsatz'>"
      ]
     },
     "execution_count": 15,
     "metadata": {},
     "output_type": "execute_result"
    },
    {
     "data": {
      "image/png": "[encoded data removed]",
      "text/plain": [
       "<Figure size 432x288 with 1 Axes>"
      ]
     },
     "metadata": {
      "needs_background": "light"
     },
     "output_type": "display_data"
    }
   ],
   "source": [
    "sns.stripplot(data=df, x=\"Zahlungsmethode\", y=\"Umsatz\")"
   ]
  },
  {
   "cell_type": "code",
   "execution_count": 9,
   "metadata": {},
   "outputs": [
    {
     "data": {
      "text/html": [
       "<div>\n",
       "<style scoped>\n",
       "    .dataframe tbody tr th:only-of-type {\n",
       "        vertical-align: middle;\n",
       "    }\n",
       "\n",
       "    .dataframe tbody tr th {\n",
       "        vertical-align: top;\n",
       "    }\n",
       "\n",
       "    .dataframe thead th {\n",
       "        text-align: right;\n",
       "    }\n",
       "</style>\n",
       "<table border=\"1\" class=\"dataframe\">\n",
       "  <thead>\n",
       "    <tr style=\"text-align: right;\">\n",
       "      <th></th>\n",
       "      <th>Alter</th>\n",
       "    </tr>\n",
       "    <tr>\n",
       "      <th>Monat</th>\n",
       "      <th></th>\n",
       "    </tr>\n",
       "  </thead>\n",
       "  <tbody>\n",
       "    <tr>\n",
       "      <th>1</th>\n",
       "      <td>48.631887</td>\n",
       "    </tr>\n",
       "    <tr>\n",
       "      <th>2</th>\n",
       "      <td>47.513690</td>\n",
       "    </tr>\n",
       "    <tr>\n",
       "      <th>3</th>\n",
       "      <td>47.354460</td>\n",
       "    </tr>\n",
       "    <tr>\n",
       "      <th>4</th>\n",
       "      <td>46.174970</td>\n",
       "    </tr>\n",
       "    <tr>\n",
       "      <th>5</th>\n",
       "      <td>45.522248</td>\n",
       "    </tr>\n",
       "    <tr>\n",
       "      <th>6</th>\n",
       "      <td>44.457978</td>\n",
       "    </tr>\n",
       "    <tr>\n",
       "      <th>7</th>\n",
       "      <td>43.024561</td>\n",
       "    </tr>\n",
       "    <tr>\n",
       "      <th>8</th>\n",
       "      <td>43.577830</td>\n",
       "    </tr>\n",
       "    <tr>\n",
       "      <th>9</th>\n",
       "      <td>42.141304</td>\n",
       "    </tr>\n",
       "    <tr>\n",
       "      <th>10</th>\n",
       "      <td>41.208235</td>\n",
       "    </tr>\n",
       "    <tr>\n",
       "      <th>11</th>\n",
       "      <td>41.275152</td>\n",
       "    </tr>\n",
       "    <tr>\n",
       "      <th>12</th>\n",
       "      <td>40.694175</td>\n",
       "    </tr>\n",
       "  </tbody>\n",
       "</table>\n",
       "</div>"
      ],
      "text/plain": [
       "           Alter\n",
       "Monat           \n",
       "1      48.631887\n",
       "2      47.513690\n",
       "3      47.354460\n",
       "4      46.174970\n",
       "5      45.522248\n",
       "6      44.457978\n",
       "7      43.024561\n",
       "8      43.577830\n",
       "9      42.141304\n",
       "10     41.208235\n",
       "11     41.275152\n",
       "12     40.694175"
      ]
     },
     "execution_count": 9,
     "metadata": {},
     "output_type": "execute_result"
    }
   ],
   "source": [
    "# Check if average age of customes has changed over time (groupby Datum)\n",
    "df.groupby(\"Monat\").agg({\"Alter\": \"mean\"})"
   ]
  },
  {
   "cell_type": "code",
   "execution_count": 63,
   "metadata": {},
   "outputs": [
    {
     "data": {
      "text/plain": [
       "<AxesSubplot:xlabel='Alter', ylabel='Count'>"
      ]
     },
     "execution_count": 63,
     "metadata": {},
     "output_type": "execute_result"
    },
    {
     "data": {
      "image/png": "[encoded data removed]",
      "text/plain": [
       "<Figure size 432x288 with 1 Axes>"
      ]
     },
     "metadata": {
      "needs_background": "light"
     },
     "output_type": "display_data"
    }
   ],
   "source": [
    "sns.histplot(data=df, x=\"Alter\")"
   ]
  },
  {
   "cell_type": "code",
   "execution_count": 64,
   "metadata": {},
   "outputs": [
    {
     "data": {
      "text/plain": [
       "<AxesSubplot:xlabel='Monat'>"
      ]
     },
     "execution_count": 64,
     "metadata": {},
     "output_type": "execute_result"
    },
    {
     "data": {
      "image/png": "[encoded data removed]",
      "text/plain": [
       "<Figure size 432x288 with 1 Axes>"
      ]
     },
     "metadata": {
      "needs_background": "light"
     },
     "output_type": "display_data"
    }
   ],
   "source": [
    "df = df.assign(Type=lambda x: np.where(x[\"Alter\"] < 40, \"Young\", \"Old\"))\n",
    "\n",
    "# Check if % of \"Young\" has changed over time\n",
    "df.groupby(\"Monat\")[\"Type\"].value_counts(normalize=True).unstack()[\"Young\"].plot()#.plot()"
   ]
  },
  {
   "cell_type": "code",
   "execution_count": 65,
   "metadata": {},
   "outputs": [
    {
     "data": {
      "text/plain": [
       "<seaborn.axisgrid.FacetGrid at 0x7fa118d9bd00>"
      ]
     },
     "execution_count": 65,
     "metadata": {},
     "output_type": "execute_result"
    },
    {
     "data": {
      "image/png": "[encoded data removed]",
      "text/plain": [
       "<Figure size 425.75x360 with 1 Axes>"
      ]
     },
     "metadata": {
      "needs_background": "light"
     },
     "output_type": "display_data"
    }
   ],
   "source": [
    "\n",
    "sns.catplot(x=\"Monat\", y=\"Preis\", data=df,  kind=\"point\", palette={\"Young\": \"blue\", \"Old\": \"orange\"}, hue=\"Type\", ci=None)"
   ]
  },
  {
   "cell_type": "code",
   "execution_count": 69,
   "metadata": {},
   "outputs": [
    {
     "data": {
      "text/plain": [
       "<AxesSubplot:xlabel='Datum'>"
      ]
     },
     "execution_count": 69,
     "metadata": {},
     "output_type": "execute_result"
    },
    {
     "data": {
      "image/png": "[encoded data removed]",
      "text/plain": [
       "<Figure size 432x288 with 1 Axes>"
      ]
     },
     "metadata": {
      "needs_background": "light"
     },
     "output_type": "display_data"
    }
   ],
   "source": [
    "df.groupby(pd.Grouper(key=\"Datum\", freq=\"M\")).agg({\"Alter\": \"mean\"}).plot()"
   ]
  },
  {
   "cell_type": "code",
   "execution_count": 29,
   "metadata": {},
   "outputs": [
    {
     "data": {
      "text/plain": [
       "<AxesSubplot:xlabel='Alter'>"
      ]
     },
     "execution_count": 29,
     "metadata": {},
     "output_type": "execute_result"
    },
    {
     "data": {
      "image/png": "[encoded data removed]",
      "text/plain": [
       "<Figure size 432x288 with 1 Axes>"
      ]
     },
     "metadata": {
      "needs_background": "light"
     },
     "output_type": "display_data"
    }
   ],
   "source": [
    "df.groupby([\"Altera\"]).agg({\"Preis\": \"mean\"}).plot()"
   ]
  },
  {
   "cell_type": "code",
   "execution_count": 13,
   "metadata": {},
   "outputs": [],
   "source": [
    "df.drop(columns=\"Wochentag\").to_csv(\"../_data/transactions_fashion_avenue.csv\", index=False)"
   ]
  },
  {
   "cell_type": "code",
   "execution_count": 10,
   "metadata": {},
   "outputs": [
    {
     "ename": "TypeError",
     "evalue": "Only valid with DatetimeIndex, TimedeltaIndex or PeriodIndex, but got an instance of 'Index'",
     "output_type": "error",
     "traceback": [
      "\u001b[0;31m---------------------------------------------------------------------------\u001b[0m",
      "\u001b[0;31mTypeError\u001b[0m                                 Traceback (most recent call last)",
      "\u001b[0;32m<ipython-input-10-77997a4433b8>\u001b[0m in \u001b[0;36m<module>\u001b[0;34m\u001b[0m\n\u001b[0;32m----> 1\u001b[0;31m \u001b[0mdf\u001b[0m\u001b[0;34m.\u001b[0m\u001b[0mgroupby\u001b[0m\u001b[0;34m(\u001b[0m\u001b[0mpd\u001b[0m\u001b[0;34m.\u001b[0m\u001b[0mGrouper\u001b[0m\u001b[0;34m(\u001b[0m\u001b[0mkey\u001b[0m\u001b[0;34m=\u001b[0m\u001b[0;34m\"Uhrzeit\"\u001b[0m\u001b[0;34m,\u001b[0m \u001b[0mfreq\u001b[0m\u001b[0;34m=\u001b[0m\u001b[0;34m\"H\"\u001b[0m\u001b[0;34m)\u001b[0m\u001b[0;34m)\u001b[0m\u001b[0;34m.\u001b[0m\u001b[0magg\u001b[0m\u001b[0;34m(\u001b[0m\u001b[0;34m{\u001b[0m\u001b[0;34m\"Menge\"\u001b[0m\u001b[0;34m:\u001b[0m \u001b[0;34m\"mean\"\u001b[0m\u001b[0;34m}\u001b[0m\u001b[0;34m)\u001b[0m\u001b[0;34m\u001b[0m\u001b[0;34m\u001b[0m\u001b[0m\n\u001b[0m\u001b[1;32m      2\u001b[0m \u001b[0;34m\u001b[0m\u001b[0m\n\u001b[1;32m      3\u001b[0m \u001b[0;31m# define dict with different parameters for distribution for old and young customers\u001b[0m\u001b[0;34m\u001b[0m\u001b[0;34m\u001b[0m\u001b[0;34m\u001b[0m\u001b[0m\n",
      "\u001b[0;32m~/opt/anaconda3/envs/mlbasic/lib/python3.8/site-packages/pandas/core/frame.py\u001b[0m in \u001b[0;36mgroupby\u001b[0;34m(self, by, axis, level, as_index, sort, group_keys, squeeze, observed, dropna)\u001b[0m\n\u001b[1;32m   6509\u001b[0m         \u001b[0maxis\u001b[0m \u001b[0;34m=\u001b[0m \u001b[0mself\u001b[0m\u001b[0;34m.\u001b[0m\u001b[0m_get_axis_number\u001b[0m\u001b[0;34m(\u001b[0m\u001b[0maxis\u001b[0m\u001b[0;34m)\u001b[0m\u001b[0;34m\u001b[0m\u001b[0;34m\u001b[0m\u001b[0m\n\u001b[1;32m   6510\u001b[0m \u001b[0;34m\u001b[0m\u001b[0m\n\u001b[0;32m-> 6511\u001b[0;31m         return DataFrameGroupBy(\n\u001b[0m\u001b[1;32m   6512\u001b[0m             \u001b[0mobj\u001b[0m\u001b[0;34m=\u001b[0m\u001b[0mself\u001b[0m\u001b[0;34m,\u001b[0m\u001b[0;34m\u001b[0m\u001b[0;34m\u001b[0m\u001b[0m\n\u001b[1;32m   6513\u001b[0m             \u001b[0mkeys\u001b[0m\u001b[0;34m=\u001b[0m\u001b[0mby\u001b[0m\u001b[0;34m,\u001b[0m\u001b[0;34m\u001b[0m\u001b[0;34m\u001b[0m\u001b[0m\n",
      "\u001b[0;32m~/opt/anaconda3/envs/mlbasic/lib/python3.8/site-packages/pandas/core/groupby/groupby.py\u001b[0m in \u001b[0;36m__init__\u001b[0;34m(self, obj, keys, axis, level, grouper, exclusions, selection, as_index, sort, group_keys, squeeze, observed, mutated, dropna)\u001b[0m\n\u001b[1;32m    523\u001b[0m             \u001b[0;32mfrom\u001b[0m \u001b[0mpandas\u001b[0m\u001b[0;34m.\u001b[0m\u001b[0mcore\u001b[0m\u001b[0;34m.\u001b[0m\u001b[0mgroupby\u001b[0m\u001b[0;34m.\u001b[0m\u001b[0mgrouper\u001b[0m \u001b[0;32mimport\u001b[0m \u001b[0mget_grouper\u001b[0m\u001b[0;34m\u001b[0m\u001b[0;34m\u001b[0m\u001b[0m\n\u001b[1;32m    524\u001b[0m \u001b[0;34m\u001b[0m\u001b[0m\n\u001b[0;32m--> 525\u001b[0;31m             grouper, exclusions, obj = get_grouper(\n\u001b[0m\u001b[1;32m    526\u001b[0m                 \u001b[0mobj\u001b[0m\u001b[0;34m,\u001b[0m\u001b[0;34m\u001b[0m\u001b[0;34m\u001b[0m\u001b[0m\n\u001b[1;32m    527\u001b[0m                 \u001b[0mkeys\u001b[0m\u001b[0;34m,\u001b[0m\u001b[0;34m\u001b[0m\u001b[0;34m\u001b[0m\u001b[0m\n",
      "\u001b[0;32m~/opt/anaconda3/envs/mlbasic/lib/python3.8/site-packages/pandas/core/groupby/grouper.py\u001b[0m in \u001b[0;36mget_grouper\u001b[0;34m(obj, key, axis, level, sort, observed, mutated, validate, dropna)\u001b[0m\n\u001b[1;32m    687\u001b[0m     \u001b[0;31m# a passed-in Grouper, directly convert\u001b[0m\u001b[0;34m\u001b[0m\u001b[0;34m\u001b[0m\u001b[0;34m\u001b[0m\u001b[0m\n\u001b[1;32m    688\u001b[0m     \u001b[0;32mif\u001b[0m \u001b[0misinstance\u001b[0m\u001b[0;34m(\u001b[0m\u001b[0mkey\u001b[0m\u001b[0;34m,\u001b[0m \u001b[0mGrouper\u001b[0m\u001b[0;34m)\u001b[0m\u001b[0;34m:\u001b[0m\u001b[0;34m\u001b[0m\u001b[0;34m\u001b[0m\u001b[0m\n\u001b[0;32m--> 689\u001b[0;31m         \u001b[0mbinner\u001b[0m\u001b[0;34m,\u001b[0m \u001b[0mgrouper\u001b[0m\u001b[0;34m,\u001b[0m \u001b[0mobj\u001b[0m \u001b[0;34m=\u001b[0m \u001b[0mkey\u001b[0m\u001b[0;34m.\u001b[0m\u001b[0m_get_grouper\u001b[0m\u001b[0;34m(\u001b[0m\u001b[0mobj\u001b[0m\u001b[0;34m,\u001b[0m \u001b[0mvalidate\u001b[0m\u001b[0;34m=\u001b[0m\u001b[0;32mFalse\u001b[0m\u001b[0;34m)\u001b[0m\u001b[0;34m\u001b[0m\u001b[0;34m\u001b[0m\u001b[0m\n\u001b[0m\u001b[1;32m    690\u001b[0m         \u001b[0;32mif\u001b[0m \u001b[0mkey\u001b[0m\u001b[0;34m.\u001b[0m\u001b[0mkey\u001b[0m \u001b[0;32mis\u001b[0m \u001b[0;32mNone\u001b[0m\u001b[0;34m:\u001b[0m\u001b[0;34m\u001b[0m\u001b[0;34m\u001b[0m\u001b[0m\n\u001b[1;32m    691\u001b[0m             \u001b[0;32mreturn\u001b[0m \u001b[0mgrouper\u001b[0m\u001b[0;34m,\u001b[0m \u001b[0;34m[\u001b[0m\u001b[0;34m]\u001b[0m\u001b[0;34m,\u001b[0m \u001b[0mobj\u001b[0m\u001b[0;34m\u001b[0m\u001b[0;34m\u001b[0m\u001b[0m\n",
      "\u001b[0;32m~/opt/anaconda3/envs/mlbasic/lib/python3.8/site-packages/pandas/core/resample.py\u001b[0m in \u001b[0;36m_get_grouper\u001b[0;34m(self, obj, validate)\u001b[0m\n\u001b[1;32m   1440\u001b[0m     \u001b[0;32mdef\u001b[0m \u001b[0m_get_grouper\u001b[0m\u001b[0;34m(\u001b[0m\u001b[0mself\u001b[0m\u001b[0;34m,\u001b[0m \u001b[0mobj\u001b[0m\u001b[0;34m,\u001b[0m \u001b[0mvalidate\u001b[0m\u001b[0;34m:\u001b[0m \u001b[0mbool\u001b[0m \u001b[0;34m=\u001b[0m \u001b[0;32mTrue\u001b[0m\u001b[0;34m)\u001b[0m\u001b[0;34m:\u001b[0m\u001b[0;34m\u001b[0m\u001b[0;34m\u001b[0m\u001b[0m\n\u001b[1;32m   1441\u001b[0m         \u001b[0;31m# create the resampler and return our binner\u001b[0m\u001b[0;34m\u001b[0m\u001b[0;34m\u001b[0m\u001b[0;34m\u001b[0m\u001b[0m\n\u001b[0;32m-> 1442\u001b[0;31m         \u001b[0mr\u001b[0m \u001b[0;34m=\u001b[0m \u001b[0mself\u001b[0m\u001b[0;34m.\u001b[0m\u001b[0m_get_resampler\u001b[0m\u001b[0;34m(\u001b[0m\u001b[0mobj\u001b[0m\u001b[0;34m)\u001b[0m\u001b[0;34m\u001b[0m\u001b[0;34m\u001b[0m\u001b[0m\n\u001b[0m\u001b[1;32m   1443\u001b[0m         \u001b[0mr\u001b[0m\u001b[0;34m.\u001b[0m\u001b[0m_set_binner\u001b[0m\u001b[0;34m(\u001b[0m\u001b[0;34m)\u001b[0m\u001b[0;34m\u001b[0m\u001b[0;34m\u001b[0m\u001b[0m\n\u001b[1;32m   1444\u001b[0m         \u001b[0;32mreturn\u001b[0m \u001b[0mr\u001b[0m\u001b[0;34m.\u001b[0m\u001b[0mbinner\u001b[0m\u001b[0;34m,\u001b[0m \u001b[0mr\u001b[0m\u001b[0;34m.\u001b[0m\u001b[0mgrouper\u001b[0m\u001b[0;34m,\u001b[0m \u001b[0mr\u001b[0m\u001b[0;34m.\u001b[0m\u001b[0mobj\u001b[0m\u001b[0;34m\u001b[0m\u001b[0;34m\u001b[0m\u001b[0m\n",
      "\u001b[0;32m~/opt/anaconda3/envs/mlbasic/lib/python3.8/site-packages/pandas/core/resample.py\u001b[0m in \u001b[0;36m_get_resampler\u001b[0;34m(self, obj, kind)\u001b[0m\n\u001b[1;32m   1432\u001b[0m             \u001b[0;32mreturn\u001b[0m \u001b[0mTimedeltaIndexResampler\u001b[0m\u001b[0;34m(\u001b[0m\u001b[0mobj\u001b[0m\u001b[0;34m,\u001b[0m \u001b[0mgroupby\u001b[0m\u001b[0;34m=\u001b[0m\u001b[0mself\u001b[0m\u001b[0;34m,\u001b[0m \u001b[0maxis\u001b[0m\u001b[0;34m=\u001b[0m\u001b[0mself\u001b[0m\u001b[0;34m.\u001b[0m\u001b[0maxis\u001b[0m\u001b[0;34m)\u001b[0m\u001b[0;34m\u001b[0m\u001b[0;34m\u001b[0m\u001b[0m\n\u001b[1;32m   1433\u001b[0m \u001b[0;34m\u001b[0m\u001b[0m\n\u001b[0;32m-> 1434\u001b[0;31m         raise TypeError(\n\u001b[0m\u001b[1;32m   1435\u001b[0m             \u001b[0;34m\"Only valid with DatetimeIndex, \"\u001b[0m\u001b[0;34m\u001b[0m\u001b[0;34m\u001b[0m\u001b[0m\n\u001b[1;32m   1436\u001b[0m             \u001b[0;34m\"TimedeltaIndex or PeriodIndex, \"\u001b[0m\u001b[0;34m\u001b[0m\u001b[0;34m\u001b[0m\u001b[0m\n",
      "\u001b[0;31mTypeError\u001b[0m: Only valid with DatetimeIndex, TimedeltaIndex or PeriodIndex, but got an instance of 'Index'"
     ]
    }
   ],
   "source": [
    "df.groupby(pd.Grouper(key=\"Uhrzeit\", freq=\"H\")).agg({\"Menge\": \"mean\"})\n",
    "\n",
    "# define dict with different parameters for distribution for old and young customers"
   ]
  }
 ],
 "metadata": {
  "kernelspec": {
   "display_name": "mlbasic",
   "language": "python",
   "name": "python3"
  },
  "language_info": {
   "codemirror_mode": {
    "name": "ipython",
    "version": 3
   },
   "file_extension": ".py",
   "mimetype": "text/x-python",
   "name": "python",
   "nbconvert_exporter": "python",
   "pygments_lexer": "ipython3",
   "version": "3.8.5"
  },
  "orig_nbformat": 4,
  "vscode": {
   "interpreter": {
    "hash": "d597cb7a18305396b9061791cc295c07a7081938789793e8903231aa54a45ac7"
   }
  }
 },
 "nbformat": 4,
 "nbformat_minor": 2
}
